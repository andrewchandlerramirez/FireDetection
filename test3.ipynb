{
 "cells": [
  {
   "cell_type": "code",
   "execution_count": 74,
   "metadata": {},
   "outputs": [],
   "source": [
    "import cv2\n",
    "import os\n",
    "import numpy as np\n",
    "from sklearn.model_selection import train_test_split\n",
    "import tensorflow as tf\n"
   ]
  },
  {
   "cell_type": "code",
   "execution_count": 75,
   "metadata": {},
   "outputs": [],
   "source": [
    "new_model = tf.keras.models.load_model('FireDetection.model')"
   ]
  },
  {
   "cell_type": "code",
   "execution_count": 95,
   "metadata": {},
   "outputs": [],
   "source": [
    "cwd = os.getcwd()\n",
    "newFileNames = os.listdir(cwd + '\\\\' + 'NewPhotos')\n",
    "\n",
    "for i in newFileNames:\n",
    "    image = cv2.imread(cwd + '\\\\' + 'NewPhotos' + '\\\\' + i)\n",
    "    new_image = image.copy()\n",
    "    new_image = cv2.resize(new_image,(700,450))\n",
    "    cv2.imwrite(cwd + '\\\\' + 'NewPhotos' + '\\\\' + i, new_image)"
   ]
  },
  {
   "cell_type": "code",
   "execution_count": 96,
   "metadata": {},
   "outputs": [
    {
     "name": "stdout",
     "output_type": "stream",
     "text": [
      "fire1.png\n",
      "fire10.png\n",
      "fire2.png\n",
      "fire3.png\n",
      "fire4.png\n",
      "fire5.png\n",
      "fire6.png\n",
      "fire7.png\n",
      "fire8.png\n",
      "fire9.png\n",
      "nofire1.png\n",
      "nofire10.png\n",
      "nofire2.png\n",
      "nofire3.png\n",
      "nofire4.png\n",
      "nofire5.png\n",
      "nofire6.png\n",
      "nofire7.png\n",
      "nofire8.png\n",
      "nofire9.png\n"
     ]
    }
   ],
   "source": [
    "xdata = []\n",
    "ydata = []\n",
    "\n",
    "for i in newFileNames[:int(len(newFileNames)/2)]:\n",
    "    print(i)\n",
    "    image = cv2.imread(cwd + '\\\\' + 'NewPhotos' + '\\\\' + i)\n",
    "    new_image = image.copy()\n",
    "    xdata.append(new_image.flatten())\n",
    "    ydata.append([0,1]) #yes fire\n",
    "\n",
    "for i in newFileNames[int(len(newFileNames)/2):]:\n",
    "    print(i)\n",
    "    image = cv2.imread(cwd + '\\\\' + 'NewPhotos' + '\\\\' + i)\n",
    "    new_image = image.copy()\n",
    "    xdata.append(new_image.flatten())\n",
    "    ydata.append([1,0]) #no fire\n",
    "\n",
    "xdata = tf.keras.utils.normalize(xdata, axis = 1)"
   ]
  },
  {
   "cell_type": "code",
   "execution_count": 97,
   "metadata": {},
   "outputs": [
    {
     "name": "stdout",
     "output_type": "stream",
     "text": [
      "20\n",
      "[[0, 1], [0, 1], [0, 1], [0, 1], [0, 1], [0, 1], [0, 1], [0, 1], [0, 1], [0, 1], [1, 0], [1, 0], [1, 0], [1, 0], [1, 0], [1, 0], [1, 0], [1, 0], [1, 0], [1, 0]]\n",
      "<class 'numpy.ndarray'> <class 'list'>\n"
     ]
    }
   ],
   "source": [
    "print(len(xdata))\n",
    "print(ydata)\n",
    "print(type(xdata),type(ydata))\n",
    "#[0,1] == fire\n",
    "#[1,0] == no fire"
   ]
  },
  {
   "cell_type": "code",
   "execution_count": 98,
   "metadata": {},
   "outputs": [
    {
     "name": "stdout",
     "output_type": "stream",
     "text": [
      "1/1 [==============================] - 0s 193ms/step - loss: 0.0715 - accuracy: 1.0000\n"
     ]
    },
    {
     "data": {
      "text/plain": [
       "[0.07152360677719116, 1.0]"
      ]
     },
     "execution_count": 98,
     "metadata": {},
     "output_type": "execute_result"
    }
   ],
   "source": [
    "new_model.evaluate(np.asarray(xdata), np.asarray(ydata))"
   ]
  },
  {
   "cell_type": "code",
   "execution_count": null,
   "metadata": {},
   "outputs": [],
   "source": []
  }
 ],
 "metadata": {
  "kernelspec": {
   "display_name": "Python 3.9.7 ('base')",
   "language": "python",
   "name": "python3"
  },
  "language_info": {
   "codemirror_mode": {
    "name": "ipython",
    "version": 3
   },
   "file_extension": ".py",
   "mimetype": "text/x-python",
   "name": "python",
   "nbconvert_exporter": "python",
   "pygments_lexer": "ipython3",
   "version": "3.9.7"
  },
  "orig_nbformat": 4,
  "vscode": {
   "interpreter": {
    "hash": "c4f92193806e2908606a5f23edd55a5282f2f433b73b1c504507f9256ed9f0b4"
   }
  }
 },
 "nbformat": 4,
 "nbformat_minor": 2
}
