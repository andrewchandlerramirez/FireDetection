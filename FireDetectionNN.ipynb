{
 "cells": [
  {
   "cell_type": "code",
   "execution_count": 84,
   "metadata": {},
   "outputs": [],
   "source": [
    "import cv2\n",
    "import os\n",
    "import numpy as np\n",
    "\n",
    "#open cv used to get image\n",
    "#os used to get file names and paths\n",
    "#numpy used to flatten 3d image array and as input into the Neural network\n"
   ]
  },
  {
   "cell_type": "code",
   "execution_count": 85,
   "metadata": {},
   "outputs": [
    {
     "name": "stdout",
     "output_type": "stream",
     "text": [
      "c:\\Users\\andre\\Desktop\\Fall_2022\\553\\FireDetection\n"
     ]
    }
   ],
   "source": [
    "cwd = os.getcwd() # returns path to current directory\n",
    "print(cwd)\n",
    "ResizedFire = '\\\\ResizedFire' #path to file where the resized fire images will be/are stored\n",
    "ResizedNonFire = '\\\\ResizedNonFire' #path to file where the resized non fire images will be/are stored"
   ]
  },
  {
   "cell_type": "code",
   "execution_count": 86,
   "metadata": {},
   "outputs": [],
   "source": [
    "FireNames = os.listdir(cwd+ResizedFire) #list of the file names in the Resied Fire directory\n",
    "NonFireNames = os.listdir(cwd+ResizedNonFire) #list of the file names in the Resized Non fire directory"
   ]
  },
  {
   "cell_type": "code",
   "execution_count": 87,
   "metadata": {},
   "outputs": [],
   "source": [
    "xdata = [] #input data\n",
    "ydata = [] #correct output data for Neural Network to target\n",
    "\n",
    "for i in FireNames:\n",
    "    image = cv2.imread(cwd + ResizedFire + '\\\\' + i) #full path to resized fire image\n",
    "    new_image = image.copy()\n",
    "    xdata.append(new_image.flatten()) #add flattened image array to the xdata // will be the input\n",
    "    ydata.append([0,1]) #yes fire     #ydata showing that this image contains fire\n"
   ]
  },
  {
   "cell_type": "code",
   "execution_count": 88,
   "metadata": {},
   "outputs": [
    {
     "name": "stdout",
     "output_type": "stream",
     "text": [
      "945000\n"
     ]
    }
   ],
   "source": [
    "print(len(xdata[0]))"
   ]
  },
  {
   "cell_type": "code",
   "execution_count": 89,
   "metadata": {},
   "outputs": [],
   "source": [
    "for i in NonFireNames:\n",
    "    image = cv2.imread(cwd + ResizedNonFire + '\\\\' + i) #full path to resized non fire image\n",
    "    new_image = image.copy()\n",
    "    xdata.append(new_image.flatten()) #add flattened image array to the xdata // will be the input\n",
    "    ydata.append([1,0]) #no fire     #ydata showing that this image contains no fire"
   ]
  },
  {
   "cell_type": "code",
   "execution_count": 90,
   "metadata": {},
   "outputs": [],
   "source": [
    "from sklearn.model_selection import train_test_split\n"
   ]
  },
  {
   "cell_type": "code",
   "execution_count": 91,
   "metadata": {},
   "outputs": [],
   "source": [
    "xtrain,xtest,ytrain,ytest = train_test_split(xdata,ydata,test_size= 0.2, shuffle= True) #sklearn used to create training data set and test dataset"
   ]
  },
  {
   "cell_type": "code",
   "execution_count": 107,
   "metadata": {},
   "outputs": [
    {
     "name": "stdout",
     "output_type": "stream",
     "text": [
      "Epoch 1/5\n",
      "29/29 [==============================] - 12s 340ms/step - loss: 0.4715 - accuracy: 0.7519\n",
      "Epoch 2/5\n",
      "29/29 [==============================] - 10s 335ms/step - loss: 0.2437 - accuracy: 0.8932\n",
      "Epoch 3/5\n",
      "29/29 [==============================] - 10s 333ms/step - loss: 0.1666 - accuracy: 0.9310\n",
      "Epoch 4/5\n",
      "29/29 [==============================] - 10s 332ms/step - loss: 0.1366 - accuracy: 0.9388\n",
      "Epoch 5/5\n",
      "29/29 [==============================] - 9s 326ms/step - loss: 0.1370 - accuracy: 0.9410\n",
      "4/4 [==============================] - 1s 115ms/step - loss: 0.2234 - accuracy: 0.9100\n"
     ]
    },
    {
     "data": {
      "text/plain": [
       "[0.2233908772468567, 0.9100000262260437]"
      ]
     },
     "execution_count": 107,
     "metadata": {},
     "output_type": "execute_result"
    }
   ],
   "source": [
    "import tensorflow as tf\n",
    "#tensorflow used to create Neural network\n",
    "\n",
    "xtrain = tf.keras.utils.normalize(xtrain, axis = 1) \n",
    "xtest = tf.keras.utils.normalize(xtest, axis = 1)\n",
    " \n",
    "\n",
    "model = tf.keras.models.Sequential()                                #945000 features\n",
    "model.add(tf.keras.layers.Dense(units = 128, activation = 'relu', input_dim = 945000)) \n",
    "model.add(tf.keras.layers.Dense(units = 128, activation = 'relu'))\n",
    "model.add(tf.keras.layers.Dense(units = 128, activation = 'relu'))\n",
    "model.add(tf.keras.layers.Dense(units = 64, activation = 'relu'))\n",
    "model.add(tf.keras.layers.Dense(units = 32, activation = 'relu'))\n",
    "#1 target split into t and f\n",
    "model.add(tf.keras.layers.Dense(units = 2, activation = 'sigmoid')) \n",
    "\n",
    "model.compile(optimizer='adam',\n",
    "              loss='categorical_crossentropy',\n",
    "              metrics=['accuracy'])\n",
    "\n",
    "xtrain = np.asarray(xtrain)\n",
    "ytrain = np.asarray(ytrain)\n",
    "xtest = np.asarray(xtest)\n",
    "ytest = np.asarray(ytest)\n",
    "\n",
    "\n",
    "model.fit(xtrain, ytrain, epochs=5\n",
    ")\n",
    "model.evaluate(xtest, ytest)"
   ]
  },
  {
   "cell_type": "code",
   "execution_count": 108,
   "metadata": {},
   "outputs": [
    {
     "name": "stdout",
     "output_type": "stream",
     "text": [
      "INFO:tensorflow:Assets written to: FireDetection.model\\assets\n"
     ]
    }
   ],
   "source": [
    "model.save('FireDetection.model')"
   ]
  },
  {
   "cell_type": "code",
   "execution_count": 109,
   "metadata": {},
   "outputs": [],
   "source": [
    "# //////////////////////////////////////////////////////////////////////////////////////"
   ]
  },
  {
   "cell_type": "code",
   "execution_count": 128,
   "metadata": {},
   "outputs": [],
   "source": [
    "xtrain,xtest,ytrain,ytest = train_test_split(xdata,ydata,test_size= 0.1, shuffle= True)\n",
    "xtrain = np.asarray(xtrain)\n",
    "ytrain = np.asarray(ytrain)\n",
    "xtest = np.asarray(xtest)\n",
    "ytest = np.asarray(ytest)\n",
    "\n",
    "xtrain = tf.keras.utils.normalize(xtrain, axis = 1) \n",
    "xtest = tf.keras.utils.normalize(xtest, axis = 1)"
   ]
  },
  {
   "cell_type": "code",
   "execution_count": 129,
   "metadata": {},
   "outputs": [
    {
     "name": "stdout",
     "output_type": "stream",
     "text": [
      "29/29 [==============================] - 3s 106ms/step - loss: 0.0935 - accuracy: 0.9700\n"
     ]
    },
    {
     "data": {
      "text/plain": [
       "[0.09352101385593414, 0.9699666500091553]"
      ]
     },
     "execution_count": 129,
     "metadata": {},
     "output_type": "execute_result"
    }
   ],
   "source": [
    "model.evaluate(np.asarray(xtrain),np.asanyarray(ytrain))"
   ]
  },
  {
   "cell_type": "code",
   "execution_count": 130,
   "metadata": {},
   "outputs": [
    {
     "name": "stdout",
     "output_type": "stream",
     "text": [
      "4/4 [==============================] - 0s 87ms/step - loss: 0.0767 - accuracy: 0.9700\n"
     ]
    },
    {
     "data": {
      "text/plain": [
       "[0.07671093195676804, 0.9700000286102295]"
      ]
     },
     "execution_count": 130,
     "metadata": {},
     "output_type": "execute_result"
    }
   ],
   "source": [
    "model.evaluate(np.asarray(xtest),np.asanyarray(ytest))"
   ]
  },
  {
   "cell_type": "code",
   "execution_count": null,
   "metadata": {},
   "outputs": [],
   "source": []
  }
 ],
 "metadata": {
  "kernelspec": {
   "display_name": "Python 3.9.7 ('base')",
   "language": "python",
   "name": "python3"
  },
  "language_info": {
   "codemirror_mode": {
    "name": "ipython",
    "version": 3
   },
   "file_extension": ".py",
   "mimetype": "text/x-python",
   "name": "python",
   "nbconvert_exporter": "python",
   "pygments_lexer": "ipython3",
   "version": "3.9.7"
  },
  "orig_nbformat": 4,
  "vscode": {
   "interpreter": {
    "hash": "c4f92193806e2908606a5f23edd55a5282f2f433b73b1c504507f9256ed9f0b4"
   }
  }
 },
 "nbformat": 4,
 "nbformat_minor": 2
}
